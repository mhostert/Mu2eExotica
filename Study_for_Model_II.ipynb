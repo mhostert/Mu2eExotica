{
 "cells": [
  {
   "cell_type": "code",
   "execution_count": 1,
   "metadata": {},
   "outputs": [],
   "source": [
    "%load_ext autoreload\n",
    "%autoreload 2"
   ]
  },
  {
   "cell_type": "code",
   "execution_count": 2,
   "metadata": {},
   "outputs": [
    {
     "name": "stderr",
     "output_type": "stream",
     "text": [
      "2023-11-30 13:16:26.383097: I tensorflow/core/platform/cpu_feature_guard.cc:193] This TensorFlow binary is optimized with oneAPI Deep Neural Network Library (oneDNN) to use the following CPU instructions in performance-critical operations:  AVX2 AVX512F AVX512_VNNI FMA\n",
      "To enable them in other operations, rebuild TensorFlow with the appropriate compiler flags.\n"
     ]
    }
   ],
   "source": [
    "import os\n",
    "import matplotlib.pyplot as plt\n",
    "import numpy as np\n",
    "import pylhe\n",
    "\n",
    "from Mu3e import plot_tools, const, models"
   ]
  },
  {
   "cell_type": "code",
   "execution_count": 3,
   "metadata": {},
   "outputs": [],
   "source": [
    "# Define the path to the MadGraph directory\n",
    "path_to_madgraph = os.path.expanduser('~/Development/MG5_aMC_v3_5_0')  # NOTE: Change this to your MadGraph installation path\n",
    "notebook_path = os.getcwd( )"
   ]
  },
  {
   "cell_type": "code",
   "execution_count": 4,
   "metadata": {},
   "outputs": [],
   "source": [
    "def get_events(filename):\n",
    "    mg5events = pylhe.read_lhe_with_attributes(filename)\n",
    "\n",
    "    # Create akward array objects for convinience\n",
    "    mg5events = pylhe.to_awkward(mg5events)\n",
    "\n",
    "    return mg5events\n",
    "\n",
    "def get_spectrum_in_bins(p, bins, weights = None):\n",
    "    di, _ = np.histogram(p, bins, weights = weights)\n",
    "    return np.array(di)"
   ]
  },
  {
   "cell_type": "markdown",
   "metadata": {},
   "source": [
    "## MadGraph functions"
   ]
  },
  {
   "cell_type": "code",
   "execution_count": 5,
   "metadata": {},
   "outputs": [],
   "source": [
    "def get_mgevents_mucapture(model, process='mu- pp > vm chi1 e+ e-', output='MuonCaptureModel1', generate=True, HTML_opening=False, nevents=1e3):\n",
    "\n",
    "    if model.muon_capture_open:\n",
    "        full_output_path = f'{notebook_path}/MGevents/{output}'\n",
    "        custom_name = f'custom_run_{model.m1:.2e}_{model.m2:.2e}_{model.maprime:.2e}'\n",
    "        \n",
    "        # Create a command file with all the instructions for MadGraph\n",
    "        mg5_commands = f\"\"\"\n",
    "        set automatic_html_opening {HTML_opening}\n",
    "        import model ExoticMuonCaptureModel1\n",
    "        generate {process} QEDp<=5\n",
    "        output {full_output_path}\n",
    "        launch -n {custom_name} {full_output_path} \n",
    "        0\n",
    "        set ptl -1\n",
    "        set etal -1\n",
    "        set etalmin -1\n",
    "        set drll -1\n",
    "        set nevents 50000\n",
    "        set ebeam1 0.00001\n",
    "        set ebeam2 0.00001\n",
    "        set Mchi1 {model.m1:.2e}\n",
    "        set Mchi2 {model.m2:.2e}\n",
    "        set MAp {model.maprime:.2e}\n",
    "        set nevents {int(nevents)}\"\n",
    "        0\n",
    "        \"\"\"\n",
    "\n",
    "        if generate:\n",
    "            # Save the commands to a file\n",
    "            with open('mg5_script.txt', 'w') as file:\n",
    "                file.write(mg5_commands)\n",
    "\n",
    "            # Run the MadGraph script\n",
    "            os.system(f'{path_to_madgraph}/bin/mg5_aMC mg5_script.txt > {notebook_path}/MGevents/MGlogfile.txt')\n",
    "\n",
    "        # Move the LHE events to the desired path\n",
    "        lhe_file_path = f'{full_output_path}/Events/{custom_name}/unweighted_events.lhe.gz'\n",
    "        \n",
    "        # Collect events after unzipping\n",
    "        return get_events(lhe_file_path)\n",
    "    else:\n",
    "        print(\"Muon capture kinematically forbidden.\")\n",
    "        return None"
   ]
  },
  {
   "cell_type": "code",
   "execution_count": 6,
   "metadata": {},
   "outputs": [],
   "source": [
    "def get_mgevents_pdecay(model, process='pp > e+ vm~ ve vm chi1 e+ e-', output='ProtonDecayModel1', generate=True, HTML_opening=False, nevents=1e3):\n",
    "    \n",
    "    if len(model.get_open_pdecay_channels()) > 1:\n",
    "        print(\"Decay channels:\", model.get_open_pdecay_channels())\n",
    "        # raise ValueError('Multiple proton decay channels detected')\n",
    "\n",
    "    full_output_path = f'{notebook_path}/MGevents/{output}'\n",
    "    custom_name = f'custom_run_{model.m1:.2e}_{model.m2:.2e}_{model.maprime:.2e}'\n",
    "    \n",
    "    # Create a command file with all the instructions for MadGraph\n",
    "    mg5_commands = f\"\"\"\n",
    "    set automatic_html_opening {HTML_opening}\n",
    "    import model ExoticMuonCaptureModel1\n",
    "    generate {process} QEDp<=5\n",
    "    output {full_output_path}\n",
    "    launch -n {custom_name} {full_output_path} \n",
    "    0\n",
    "    set Mchi1 {model.m1:.2e}\n",
    "    set Mchi2 {model.m2:.2e}\n",
    "    set MAp {model.maprime:.2e}\n",
    "    set nevents {int(nevents)}\"\n",
    "    0\n",
    "    \"\"\"\n",
    "\n",
    "    if generate:\n",
    "        # Save the commands to a file\n",
    "        with open('mg5_script.txt', 'w') as file:\n",
    "            file.write(mg5_commands)\n",
    "\n",
    "        # Run the MadGraph script\n",
    "        os.system(f'{path_to_madgraph}/bin/mg5_aMC mg5_script.txt > {notebook_path}/MGevents/MGlogfile.txt')\n",
    "\n",
    "    # Move the LHE events to the desired path\n",
    "    lhe_file_path = f'{full_output_path}/Events/{custom_name}/unweighted_events.lhe.gz'\n",
    "    \n",
    "    # Collect events after unzipping\n",
    "    return get_events(lhe_file_path)"
   ]
  },
  {
   "cell_type": "markdown",
   "metadata": {},
   "source": [
    "## Model benchmarks"
   ]
  },
  {
   "cell_type": "code",
   "execution_count": 7,
   "metadata": {},
   "outputs": [],
   "source": [
    "Lambda_NP = 1e6\n",
    "Gmup = 1/(Lambda_NP)**2\n",
    "\n",
    "Benchmark1 = models.MuonCaptureModelI(m1=0.900, m2=1.020, maprime=0.020, Gmup=Gmup)\n",
    "Benchmark2 = models.MuonCaptureModelI(m1=0.835, m2=1.020, maprime=0.020, Gmup=Gmup)"
   ]
  },
  {
   "cell_type": "markdown",
   "metadata": {},
   "source": [
    "## Muon capture studies"
   ]
  },
  {
   "cell_type": "code",
   "execution_count": 8,
   "metadata": {},
   "outputs": [
    {
     "name": "stderr",
     "output_type": "stream",
     "text": [
      "stty: stdin isn't a terminal\n",
      "100%|██████████| 774/774 [00:00<00:00, 23682.11it/s]\n",
      "stty: stdin isn't a terminal\n",
      "100%|██████████| 774/774 [00:00<00:00, 33017.62it/s]\n"
     ]
    }
   ],
   "source": [
    "mucapture_1 = get_mgevents_mucapture(Benchmark1, generate=True, nevents=1e3)\n",
    "mucapture_2 = get_mgevents_mucapture(Benchmark2, generate=True, nevents=1e3)\n",
    "\n",
    "weights_mucapture_1 = mucapture_1['eventinfo','weight'].to_numpy()/mucapture_1['eventinfo','weight'].to_numpy().sum() * Benchmark1.get_mu_capture_rate()\n",
    "weights_mucapture_2 = mucapture_1['eventinfo','weight'].to_numpy()/mucapture_1['eventinfo','weight'].to_numpy().sum() * Benchmark2.get_mu_capture_rate()"
   ]
  },
  {
   "cell_type": "code",
   "execution_count": 9,
   "metadata": {},
   "outputs": [],
   "source": [
    "def mu_capture_kinematics(mgevents):\n",
    "    electrons = (mgevents['particles', 'id'] == 11)\n",
    "    positrons = (mgevents['particles', 'id'] == -11)\n",
    "    neutrinos = (np.abs(mgevents['particles', 'id']) == 12) | (np.abs(mgevents['particles', 'id']) == 14)\n",
    "    chi1s = (np.abs(mgevents['particles', 'id']) == 999901) \n",
    "\n",
    "    p_positron = np.array([np.array(mgevents[\"particles\", \"vector\", ind][positrons]) for ind in [\"t\", \"x\", \"y\", \"z\"]])[:,:,0]\n",
    "    p_electron = np.array([np.array(mgevents[\"particles\", \"vector\", ind][electrons]) for ind in [\"t\", \"x\", \"y\", \"z\"]])[:,:,0]\n",
    "    ptot = (p_positron + p_electron).T\n",
    "\n",
    "    kin = {}\n",
    "    kin['E_positron'] = mgevents['particles','vector','t'][positrons].to_numpy().sum(axis=1)\n",
    "    kin['E_electron'] = mgevents['particles','vector','t'][electrons].to_numpy().sum(axis=1)\n",
    "    kin['E_neutrino'] = mgevents['particles','vector','t'][neutrinos].to_numpy().sum(axis=1)\n",
    "    kin['E_chi1'] = mgevents['particles','vector','t'][chi1s].to_numpy().sum(axis=1)\n",
    "    kin['E_vis'] = kin['E_electron'] + kin['E_positron']\n",
    "    kin['T_vis'] = kin['E_vis'] - 2*const.m_e\n",
    "    kin['E_inv'] = kin['E_neutrino'] + kin['E_chi1']\n",
    "    kin['E_asy'] = np.abs(kin['E_electron'] - kin['E_positron']) / (kin['E_electron'] + kin['E_positron'])\n",
    "    kin['m_ee'] = np.sqrt(ptot[:, 0]**2 - ptot[:, 1]**2 - ptot[:, 2]**2 - ptot[:, 3]**2)\n",
    "\n",
    "    return kin"
   ]
  },
  {
   "cell_type": "code",
   "execution_count": 10,
   "metadata": {},
   "outputs": [],
   "source": [
    "kin_1 = mu_capture_kinematics(mucapture_1)\n",
    "kin_2 = mu_capture_kinematics(mucapture_2)"
   ]
  },
  {
   "cell_type": "code",
   "execution_count": 11,
   "metadata": {},
   "outputs": [
    {
     "data": {
      "image/png": "[encoded data removed]",
      "text/plain": [
       "<Figure size 500x350 with 1 Axes>"
      ]
     },
     "metadata": {},
     "output_type": "display_data"
    }
   ],
   "source": [
    "# Create a figure and axis\n",
    "fig, ax = plot_tools.std_fig(figsize=(5, 3.5))\n",
    "\n",
    "bins = np.linspace(0, max(np.max(kin_1['E_electron']), np.max(kin_1['E_positron']))*1e3, 30)\n",
    "\n",
    "# Plot the histogram\n",
    "ax.hist((kin_1['E_electron']-const.m_e)*1e3, weights=weights_mucapture_1/np.diff(bins)[0], bins=bins, histtype='stepfilled', color='skyblue', edgecolor='black', label='$e^-$')\n",
    "\n",
    "# Plot the histogram\n",
    "ax.hist((kin_1['E_positron']-const.m_e)*1e3, weights=weights_mucapture_1/np.diff(bins)[0], bins=bins, histtype='step', color='skyblue', edgecolor='red', label='$e^+$')\n",
    "\n",
    "# Set labels and title\n",
    "ax.set_xlabel(r'$T_{e^\\pm}$/MeV')\n",
    "ax.set_ylabel(r'Rate (a.u.)')\n",
    "ax.set_title(fr'$\\mu^- p^+ \\to \\nu (\\chi_2 \\to \\chi_1 (A^\\prime \\to e^+e^-))$', fontsize=10)\n",
    "\n",
    "# ax.set_yscale('log')\n",
    "ax.set_xlim(np.min(bins),np.max(bins))\n",
    "\n",
    "# Add the text box\n",
    "ax.text(0.67, 0.95, Benchmark1.text_descriptor, transform=ax.transAxes, fontsize=10, verticalalignment='top')\n",
    "\n",
    "ax.text(0.75, 0.6, fr'$c\\tau_{{A^\\prime}} = {Benchmark1.get_aprime_ctau0():.0f}$~mm', transform=ax.transAxes, fontsize=10, verticalalignment='top')\n",
    "ax.legend(loc='upper left', fontsize=10, frameon=False)\n",
    "\n",
    "# Add the vertical dashed line\n",
    "# sqrts = (mp + mmu)\n",
    "# Echi2_CM = (sqrts**2 + mchi2**2)/2/sqrts\n",
    "# Echi1_max = (sqrts**2 + mchi1**2 - (2*me)**2)/2/sqrts\n",
    "# Ee_max = (Echi2_CM**2 + me**2 - (me + mchi1)**2)/2/Echi2_CM\n",
    "# cutoff = Ee_max\n",
    "# ax.axvline(cutoff, linestyle='dashed', color='grey', alpha=0.2)\n",
    "# ax.text(cutoff+2, ax.get_ylim()[1]/20, r'$\\frac{ E_{\\chi_2}^{\\rm CM\\,2} + m_e^2 - (m_e + m_1)^2}{2E^{\\rm CM}_{\\chi_2}}$', rotation='vertical', color='grey', ha='left', va='bottom')\n",
    "\n",
    "# Set x ticks\n",
    "ax.set_xticks(np.arange(0, 100, 20))\n",
    "ax.set_ylim(0,20e-13)\n",
    "\n",
    "# Save the figure to a PDF file\n",
    "fig.savefig(f'plots/MuonCapture_model1_m1_{Benchmark1.m1*1e3:.0f}_Tvis.png', bbox_inches='tight', dpi=300)"
   ]
  },
  {
   "cell_type": "markdown",
   "metadata": {},
   "source": [
    "## Proton decay studies"
   ]
  },
  {
   "cell_type": "code",
   "execution_count": 12,
   "metadata": {},
   "outputs": [
    {
     "name": "stderr",
     "output_type": "stream",
     "text": [
      "stty: stdin isn't a terminal\n",
      "100%|██████████| 978/978 [00:00<00:00, 33063.02it/s]\n"
     ]
    },
    {
     "data": {
      "text/plain": [
       "2.2267203782178013e-33"
      ]
     },
     "execution_count": 12,
     "metadata": {},
     "output_type": "execute_result"
    }
   ],
   "source": [
    "pdecay_full_1 = get_mgevents_pdecay(Benchmark1, generate=True, process='pp > e+ vm~ ve vm chi1 e+ e-')\n",
    "weights_full_1 = const.get_decay_rate_in_1e32_years(pdecay_full_1['eventinfo','weight'].to_numpy() / len(pdecay_full_1)) * Benchmark1.pdecay_rescale\n",
    "\n",
    "lifetime_1e32_1 = weights_full_1.sum()\n",
    "lifetime_1e32_1"
   ]
  },
  {
   "cell_type": "code",
   "execution_count": 13,
   "metadata": {},
   "outputs": [
    {
     "name": "stderr",
     "output_type": "stream",
     "text": [
      "stty: stdin isn't a terminal\n",
      "100%|██████████| 904/904 [00:00<00:00, 60391.03it/s]\n"
     ]
    },
    {
     "data": {
      "text/plain": [
       "3.6575886447008227e-40"
      ]
     },
     "execution_count": 13,
     "metadata": {},
     "output_type": "execute_result"
    }
   ],
   "source": [
    "pdecay_aprime_1 = get_mgevents_pdecay(Benchmark1, generate=True, process='pp > e+ vm~ ve vm chi1 Ap')\n",
    "weights_aprime_1 = const.get_decay_rate_in_1e32_years(pdecay_aprime_1['eventinfo','weight'].to_numpy() / len(pdecay_aprime_1)) * Benchmark1.pdecay_rescale\n",
    "\n",
    "lifetime_1e32_aprime_1 = weights_aprime_1.sum()\n",
    "lifetime_1e32_aprime_1"
   ]
  },
  {
   "cell_type": "code",
   "execution_count": 14,
   "metadata": {},
   "outputs": [
    {
     "name": "stdout",
     "output_type": "stream",
     "text": [
      "2.2267203782178013e-33\n",
      "3.6575886447008227e-40\n"
     ]
    }
   ],
   "source": [
    "print(lifetime_1e32_1)\n",
    "print(lifetime_1e32_aprime_1)\n",
    "weights_full_normalized = weights_full_1 * lifetime_1e32_aprime_1 / lifetime_1e32_1"
   ]
  },
  {
   "cell_type": "code",
   "execution_count": 15,
   "metadata": {},
   "outputs": [],
   "source": [
    "def p_decay_kinematics(mgevents):\n",
    "    electrons = (mgevents['particles', 'id'] == 11)\n",
    "    positrons = (mgevents['particles', 'id'] == -11)\n",
    "    neutrinos = (np.abs(mgevents['particles', 'id']) == 12) | (np.abs(mgevents['particles', 'id']) == 14)\n",
    "    chi1s = (np.abs(mgevents['particles', 'id']) == 999901) \n",
    "\n",
    "    p_positron_1 = np.array([np.array(mgevents[\"particles\", \"vector\", ind][positrons]) for ind in [\"t\", \"x\", \"y\", \"z\"]])[:,:,0]\n",
    "    p_positron_2 = np.array([np.array(mgevents[\"particles\", \"vector\", ind][positrons]) for ind in [\"t\", \"x\", \"y\", \"z\"]])[:,:,1]\n",
    "    p_electron = np.array([np.array(mgevents[\"particles\", \"vector\", ind][electrons]) for ind in [\"t\", \"x\", \"y\", \"z\"]])[:,:,0]\n",
    "    ptot = (p_positron_1 + p_positron_2 + p_electron).T\n",
    "\n",
    "    kin = {}\n",
    "    kin['E_positrons'] = mgevents['particles','vector','t'][positrons].to_numpy().sum(axis=1)\n",
    "    kin['E_electrons'] = mgevents['particles','vector','t'][electrons].to_numpy().sum(axis=1)\n",
    "    kin['E_neutrinos'] = mgevents['particles','vector','t'][neutrinos].to_numpy().sum(axis=1)\n",
    "    kin['E_chi1'] = mgevents['particles','vector','t'][chi1s].to_numpy().sum(axis=1)\n",
    "    kin['E_vis'] = kin['E_electrons'] + kin['E_positrons']\n",
    "    kin['T_vis'] = kin['E_vis'] - 2*const.m_e\n",
    "    kin['E_inv'] = kin['E_neutrinos'] + kin['E_chi1']\n",
    "    kin['E_asy'] = np.abs(kin['E_electrons'] - kin['E_positrons']) / (kin['E_electrons'] + kin['E_positrons'])\n",
    "    kin['m_eee'] = np.sqrt(ptot[:, 0]**2 - ptot[:, 1]**2 - ptot[:, 2]**2 - ptot[:, 3]**2)\n",
    "\n",
    "    return kin\n"
   ]
  },
  {
   "cell_type": "code",
   "execution_count": 16,
   "metadata": {},
   "outputs": [],
   "source": [
    "kin_pdecay = p_decay_kinematics(pdecay_full_1)"
   ]
  },
  {
   "cell_type": "code",
   "execution_count": 17,
   "metadata": {},
   "outputs": [
    {
     "data": {
      "image/png": "[encoded data removed]",
      "text/plain": [
       "<Figure size 500x350 with 1 Axes>"
      ]
     },
     "metadata": {},
     "output_type": "display_data"
    }
   ],
   "source": [
    "# Create a figure and axis\n",
    "fig, ax = plot_tools.std_fig(figsize=(5, 3.5))\n",
    "\n",
    "# Plot the histogram\n",
    "bins = np.linspace(0, np.max(kin_pdecay['m_eee'])*1e3, 30)\n",
    "ax.hist(kin_pdecay['m_eee']*1e3, weights=weights_full_normalized/np.diff(bins)[0], bins=bins, histtype='stepfilled', color='skyblue', edgecolor='black')\n",
    "\n",
    "# Set labels and title\n",
    "ax.set_xlabel(r'$m_{eee}$/MeV')\n",
    "ax.set_ylabel(r'${d \\tau_{p}/d m_{eee}}$ ($10^{32}$ years/MeV)')\n",
    "ax.set_title(fr'$\\tau\\big(p^+ \\to \\nu(\\mu^{{+*}} \\to e^+\\nu\\nu)(\\chi_2^* \\to \\chi_1 (A^\\prime \\to e^+e^-))\\big) = {plot_tools.sci_notation(lifetime_1e32_aprime_1.sum()*1e32, notex=True)}$ years', fontsize=10)\n",
    "\n",
    "ax.set_xlim(np.min(bins),np.max(bins))\n",
    "\n",
    "# Add the text box\n",
    "ax.text(0.025, 0.95, Benchmark1.text_descriptor, transform=ax.transAxes, fontsize=10, verticalalignment='top')\n",
    "\n",
    "\n",
    "# Add the vertical dashed line\n",
    "cutoff = (const.m_proton - Benchmark1.m1 - Benchmark1.maprime)*1e3\n",
    "ax.axvline(cutoff, linestyle='dashed', color='grey')\n",
    "# ax.text(cutoff+0.5, ax.get_ylim()[1]/10, r'$m_p - m_1 - 3 m_e$', rotation='vertical', color='grey', ha='left', va='bottom')\n",
    "\n",
    "\n",
    "# Save the figure to a PDF file\n",
    "fig.savefig(f'plots/ProtonDecay_model1_meee_m1_{Benchmark1.m1:0.0f}.png', bbox_inches='tight', dpi=300)"
   ]
  },
  {
   "cell_type": "code",
   "execution_count": 18,
   "metadata": {},
   "outputs": [
    {
     "data": {
      "image/png": "[encoded data removed]",
      "text/plain": [
       "<Figure size 500x350 with 1 Axes>"
      ]
     },
     "metadata": {},
     "output_type": "display_data"
    }
   ],
   "source": [
    "# Create a figure and axis\n",
    "fig, ax = plot_tools.std_fig(figsize=(5, 3.5))\n",
    "\n",
    "# Plot the histogram\n",
    "bins = np.linspace(0, np.max(kin_pdecay['T_vis']*1e3), 30)\n",
    "ax.hist(kin_pdecay['T_vis']*1e3, weights=weights_full_normalized/np.diff(bins)[0], bins=bins, histtype='stepfilled', color='skyblue', edgecolor='black')\n",
    "\n",
    "# Set labels and title\n",
    "ax.set_xlabel(r'$T_{\\mathrm{vis}}$/MeV')\n",
    "ax.set_ylabel(r'${d \\tau_{p}/d T_{\\rm vis}}$ ($10^{32}$ years/MeV)')\n",
    "ax.set_title(fr'$\\tau\\big(p^+ \\to \\nu(\\mu^{{+*}} \\to e^+\\nu\\nu)(\\chi_2^* \\to \\chi_1 (A^\\prime \\to e^+e^-))\\big) = {plot_tools.sci_notation(lifetime_1e32_aprime_1*1e32, notex=True)}$ years', fontsize=10)\n",
    "\n",
    "# ax.set_yscale('log')\n",
    "\n",
    "ax.set_xlim(np.min(bins),np.max(bins))\n",
    "\n",
    "# Add the text box\n",
    "ax.text(0.025, 0.95, Benchmark1.text_descriptor, transform=ax.transAxes, fontsize=10, verticalalignment='top')\n",
    "\n",
    "# Add the vertical dashed line\n",
    "# cutoff = 938.27 - (m1+mAp)*1e3 - 3*0.511\n",
    "# ax.axvline(cutoff, linestyle='dashed', color='grey')\n",
    "# ax.text(cutoff+0.5, ax.get_ylim()[1]/10, r'$m_p - m_1 - 3 m_e$', rotation='vertical', color='grey', ha='left', va='bottom')\n",
    "\n",
    "# Save the figure to a PDF file\n",
    "fig.savefig(f'plots/ProtonDecay_model1_Tvis_m1_{Benchmark1.m1:0.0f}.png', bbox_inches='tight', dpi=300)"
   ]
  }
 ],
 "metadata": {
  "kernelspec": {
   "display_name": "py39",
   "language": "python",
   "name": "python3"
  },
  "language_info": {
   "codemirror_mode": {
    "name": "ipython",
    "version": 3
   },
   "file_extension": ".py",
   "mimetype": "text/x-python",
   "name": "python",
   "nbconvert_exporter": "python",
   "pygments_lexer": "ipython3",
   "version": "3.9.15"
  },
  "orig_nbformat": 4
 },
 "nbformat": 4,
 "nbformat_minor": 2
}
