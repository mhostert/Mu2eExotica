{
 "cells": [
  {
   "cell_type": "code",
   "execution_count": 1,
   "metadata": {},
   "outputs": [],
   "source": [
    "import os\n",
    "import matplotlib.pyplot as plt\n",
    "import numpy as np"
   ]
  },
  {
   "cell_type": "code",
   "execution_count": 68,
   "metadata": {},
   "outputs": [
    {
     "name": "stdout",
     "output_type": "stream",
     "text": [
      "************************************************************\n",
      "*                                                          *\n",
      "*                     W E L C O M E to                     *\n",
      "*              M A D G R A P H 5 _ a M C @ N L O           *\n",
      "*                                                          *\n",
      "*                                                          *\n",
      "*                 *                       *                *\n",
      "*                   *        * *        *                  *\n",
      "*                     * * * * 5 * * * *                    *\n",
      "*                   *        * *        *                  *\n",
      "*                 *                       *                *\n",
      "*                                                          *\n",
      "*         VERSION 3.5.0                 2023-05-12         *\n",
      "*                                                          *\n",
      "*    The MadGraph5_aMC@NLO Development Team - Find us at   *\n",
      "*              http://madgraph.phys.ucl.ac.be/             *\n",
      "*                            and                           *\n",
      "*            http://amcatnlo.web.cern.ch/amcatnlo/         *\n",
      "*                                                          *\n",
      "*               Type 'help' for in-line help.              *\n",
      "*           Type 'tutorial' to learn how MG5 works         *\n",
      "*    Type 'tutorial aMCatNLO' to learn how aMC@NLO works   *\n",
      "*    Type 'tutorial MadLoop' to learn how MadLoop works    *\n",
      "*                                                          *\n",
      "************************************************************\n",
      "load MG5 configuration from input/mg5_configuration.txt \n",
      "set fastjet to fastjet-config\n",
      "eMELA-config does not seem to correspond to a valid eMELA-config executable.\n",
      " Please set the 'fastjet'variable to the full (absolute) /PATH/TO/eMELA-config (including eMELA-config).\n",
      " MG5_aMC> set eMELA /PATH/TO/eMELA-config\n",
      "\n",
      "set lhapdf to lhapdf-config\n",
      "None does not seem to correspond to a valid lhapdf-config executable. \n",
      "Please set the 'lhapdf' variable to the (absolute) /PATH/TO/lhapdf-config (including lhapdf-config).\n",
      "Note that you can still compile and run aMC@NLO with the built-in PDFs\n",
      " MG5_aMC> set lhapdf /PATH/TO/lhapdf-config\n",
      "\n",
      "Using default text editor \"vi\". Set another one in ./input/mg5_configuration.txt\n",
      "\u001b[1;34mWARNING: launching caffeinate to prevent idle sleep when MG5aMC is running. Run './bin/mg5_aMC -s' to prevent this. \u001b[0m\n",
      "import /Users/matheushostert/Development/MG5_aMC_v3_5_0/mg5_script.txt\n",
      "The import format was not given, so we guess it as command\n",
      "import model ExoticMuonCaptureModel1\n",
      "INFO: Change particles name to pass to MG5 convention \n",
      "\u001b[1;34mimpossible to set default multiparticles p because No particle g in model\u001b[0m\n",
      "\u001b[1;34mimpossible to set default multiparticles j because No particle g in model\u001b[0m\n",
      "Defined multiparticle l+ = e+ mu+\n",
      "Defined multiparticle l- = e- mu-\n",
      "Defined multiparticle vl = ve vm vt\n",
      "Defined multiparticle vl~ = ve~ vm~ vt~\n",
      "Defined multiparticle all = a ve vm vt ve~ vm~ vt~ ap e- mu- ta- chi1 chi2 pp e+ mu+ ta+ chi1bar chi2bar ppbar\n",
      "generate pp mu- > vm chi1 e+ e- QEDp=10 QED=4\n",
      "\u001b[1;34mInterpreting 'QED=4' as 'QED<=4'\u001b[0m\n",
      "\u001b[1;34mInterpreting 'QEDp=10' as 'QEDp<=10'\u001b[0m\n",
      "INFO: Trying process: pp mu- > vm chi1 e+ e- QED<=4 QEDp<=10 @1  \n",
      "INFO: Process has 1 diagrams \n",
      "1 processes with 1 diagrams generated in 0.002 s\n",
      "Total: 1 processes with 1 diagrams\n",
      "output MuonCaptureModel1\n",
      "INFO: directory /Users/matheushostert/Development/MG5_aMC_v3_5_0/MuonCaptureModel1 already exists.\n",
      "If you continue this directory will be deleted and replaced.\n",
      "Do you want to continue? [\u001b[4my\u001b[0m, n]\n",
      "\u001b[1;34mfound line : launch MuonCaptureModel1\u001b[0m\n",
      "\u001b[1;34mThis answer is not valid for current question. Keep it for next question and use here default: y\u001b[0m\n",
      "INFO: initialize a new directory: MuonCaptureModel1 \n",
      "INFO: remove old information in MuonCaptureModel1 \n",
      "INFO: Organizing processes into subprocess groups \n",
      "INFO: Generating Helas calls for process: pp mu- > vm chi1 e+ e- QED<=4 QEDp<=10 @1 \n",
      "INFO: Processing color information for process: pp mu- > vm chi1 e+ e- QED<=4 QEDp<=10 @1 \n",
      "INFO: Creating files in directory P1_ppmum_vlchi1epem \n",
      "INFO: Generating Feynman diagrams for Process: pp mu- > vm chi1 e+ e- QED<=4 QEDp<=10 @1 \n",
      "INFO: Finding symmetric diagrams for subprocess group ppmum_vlchi1epem \n",
      "Generated helas calls for 1 subprocesses (1 diagrams) in 0.007 s\n",
      "Wrote files for 9 helas calls in 0.093 s\n",
      "\u001b[1;31mCRITICAL: aS not define as external parameter adding it! \u001b[0m\n",
      "\u001b[1;34mWARNING: \u001b[1;31m aEWM1 and Gf not define in MODEL. AQED will not be written correcty in LHE FILE \u001b[0m\n",
      "ALOHA: aloha starts to compute helicity amplitudes\n",
      "ALOHA: aloha creates 7 routines in  1.481 s\n",
      "save configuration file to /Users/matheushostert/Development/MG5_aMC_v3_5_0/MuonCaptureModel1/Cards/me5_configuration.txt\n",
      "INFO: Use Fortran compiler gfortran \n",
      "INFO: Use c++ compiler clang \n",
      "INFO: Generate jpeg diagrams \n",
      "INFO: Generate web pages \n",
      "Output to directory /Users/matheushostert/Development/MG5_aMC_v3_5_0/MuonCaptureModel1 done.\n",
      "Type \"launch\" to generate events from this process, or see\n",
      "/Users/matheushostert/Development/MG5_aMC_v3_5_0/MuonCaptureModel1/README\n",
      "Run \"open index.html\" to see more information about this process.\n",
      "launch MuonCaptureModel1\n",
      "************************************************************\n",
      "*                                                          *\n",
      "*                      W E L C O M E to                    *\n",
      "*             M A D G R A P H 5 _ a M C @ N L O            *\n",
      "*                      M A D E V E N T                     *\n",
      "*                                                          *\n",
      "*                 *                       *                *\n",
      "*                   *        * *        *                  *\n",
      "*                     * * * * 5 * * * *                    *\n",
      "*                   *        * *        *                  *\n",
      "*                 *                       *                *\n",
      "*                                                          *\n",
      "*         VERSION 3.5.0                 2023-05-12         *\n",
      "*                                                          *\n",
      "*    The MadGraph5_aMC@NLO Development Team - Find us at   *\n",
      "*    https://server06.fynu.ucl.ac.be/projects/madgraph     *\n",
      "*                                                          *\n",
      "*               Type 'help' for in-line help.              *\n",
      "*                                                          *\n",
      "************************************************************\n",
      "INFO: load configuration from /Users/matheushostert/Development/MG5_aMC_v3_5_0/MuonCaptureModel1/Cards/me5_configuration.txt  \n",
      "INFO: load configuration from /Users/matheushostert/Development/MG5_aMC_v3_5_0/input/mg5_configuration.txt  \n",
      "INFO: load configuration from /Users/matheushostert/Development/MG5_aMC_v3_5_0/MuonCaptureModel1/Cards/me5_configuration.txt  \n",
      "Using default text editor \"vi\". Set another one in ./input/mg5_configuration.txt\n",
      "generate_events run_01\n",
      "set ptl -1\n",
      "\u001b[1mINFO: modify parameter ptl of the run_card.dat to -1.0 \u001b[0m\n",
      "set etal -1\n",
      "\u001b[1mINFO: modify parameter etal of the run_card.dat to -1.0 \u001b[0m\n",
      "set etalmin -1\n",
      "\u001b[1mINFO: modify parameter etalmin of the run_card.dat to -1.0 \u001b[0m\n",
      "set drll -1\n",
      "\u001b[1mINFO: modify parameter drll of the run_card.dat to -1.0 \u001b[0m\n",
      "set nevents 50000\n",
      "\u001b[1mINFO: modify parameter nevents of the run_card.dat to 50000 \u001b[0m\n",
      "set ebeam1 0.00001\n",
      "\u001b[1mINFO: modify parameter ebeam1 of the run_card.dat to 1e-05 \u001b[0m\n",
      "set ebeam2 0.00001\n",
      "\u001b[1mINFO: modify parameter ebeam2 of the run_card.dat to 1e-05 \u001b[0m\n",
      "Do you want to edit a card (press enter to bypass editing)?\n",
      "/------------------------------------------------------------\\\n",
      "|  \u001b[31m1\u001b[0m. param : \u001b[32mparam_card.dat\u001b[0m                                 |\n",
      "|  \u001b[31m2\u001b[0m. run   : \u001b[32mrun_card.dat\u001b[0m                                   |\n",
      "\\------------------------------------------------------------/\n",
      " you can also\n",
      "   - enter the path to a valid card or banner.\n",
      "   - use the 'set' command to modify a parameter directly.\n",
      "     The set option works only for param_card and run_card.\n",
      "     Type 'help set' for more information on this command.\n",
      "   - call an external program (ASperGE/MadWidth/...).\n",
      "     Type 'help' for the list of available command\n",
      " [\u001b[4m0\u001b[0m, done, 1, param, 2, run, enter path]\n",
      "\u001b[1mThe answer to the previous question is not set in your input file\u001b[0m\n",
      "\u001b[1mUse 0 value\u001b[0m\n",
      "INFO: Update the dependent parameter of the param_card.dat \n",
      "Generating 50000 events with run name run_01\n",
      "survey  run_01 \n",
      "INFO: compile directory \n"
     ]
    },
    {
     "name": "stderr",
     "output_type": "stream",
     "text": [
      "stty: stdin isn't a terminal\n"
     ]
    },
    {
     "name": "stdout",
     "output_type": "stream",
     "text": [
      "compile Source Directory\n",
      "Using random number seed offset = 21\n",
      "INFO: Running Survey \n",
      "Creating Jobs\n",
      "Working on SubProcesses\n",
      "INFO: Compiling for process 1/1. \n",
      "INFO:     P1_ppmum_vlchi1epem  \n",
      "\u001b[1;34mWARNING: The optimizer detects that you have coupling evaluated to zero: \n",
      "GC_5 GC_6 GC_8 GC_9 GC_11\n",
      "This will slow down the computation. Please consider using restricted model:\n",
      "https://answers.launchpad.net/mg5amcnlo/+faq/2312 \u001b[0m\n",
      "INFO:     P1_ppmum_vlchi1epem  \n"
     ]
    },
    {
     "name": "stderr",
     "output_type": "stream",
     "text": [
      "100%|██████████| 774/774 [00:00<00:00, 51021.43it/s]\n"
     ]
    },
    {
     "name": "stdout",
     "output_type": "stream",
     "text": [
      "INFO:  Idle: 1,  Running: 0,  Completed: 0 [ current time: 20h52 ] \n",
      "INFO:  Idle: 0,  Running: 0,  Completed: 1 [  0.36s  ] \n",
      "INFO:  Idle: 0,  Running: 0,  Completed: 1 [  0.36s  ] \n",
      "INFO: End survey \n",
      "refine 50000\n",
      "Creating Jobs\n",
      "INFO: Refine results to 50000 \n",
      "INFO: Generating 50000.0 unweighted events. \n",
      "sum of cpu time of last step: 0 second\n",
      "INFO: Effective Luminosity 0.003779765654529419 pb^-1 \n",
      "INFO: need to improve 1 channels \n",
      "- Current estimate of cross-section: 15874000.0 +- 470030.0\n",
      "    P1_ppmum_vlchi1epem \n",
      "INFO:  Idle: 52,  Running: 8,  Completed: 0 [ current time: 20h52 ] \n",
      "INFO:  Idle: 43,  Running: 8,  Completed: 9 [  3.2s  ] \n",
      "INFO:  Idle: 27,  Running: 8,  Completed: 25 [  7s  ] \n",
      "INFO:  Idle: 11,  Running: 8,  Completed: 41 [  10.8s  ] \n",
      "INFO:  Idle: 0,  Running: 3,  Completed: 57 [  13.9s  ] \n",
      "INFO:  Idle: 0,  Running: 0,  Completed: 60 [  14s  ] \n",
      "INFO: Combining runs \n",
      "sum of cpu time of last step: 1m40s\n",
      "INFO: finish refine \n",
      "refine 50000 --treshold=0.9\n",
      "No need for second refine due to stability of cross-section\n",
      "INFO: Combining Events \n",
      "  === Results Summary for run: run_01 tag: tag_1 ===\n",
      "\n",
      "     Cross-section :   1.665e+07 +- 2.881e+04 pb\n",
      "     Nb of events :  50000\n",
      " \n",
      "store_events\n",
      "INFO: Storing parton level results \n",
      "INFO: End Parton \n",
      "reweight -from_cards\n",
      "decay_events -from_cards\n",
      "INFO: storing files of previous run \n",
      "INFO: Done \n",
      "quit\n",
      "INFO:  \n",
      "more information in /Users/matheushostert/Development/MG5_aMC_v3_5_0/MuonCaptureModel1/index.html\n",
      "quit\n"
     ]
    }
   ],
   "source": [
    "# Define the path to the MadGraph directory\n",
    "path_to_madgraph = os.path.expanduser('~/Development/MG5_aMC_v3_5_0')  # Change this to your MadGraph installation path\n",
    "notebook_path = os.getcwd( )\n",
    "\n",
    "# Change the current directory to the MadGraph directory\n",
    "os.chdir(path_to_madgraph)\n",
    "\n",
    "# Create a command file with all the instructions for MadGraph\n",
    "mg5_commands = \"\"\"\n",
    "import model ExoticMuonCaptureModel1\n",
    "generate pp mu- > vm chi1 e+ e- QEDp=10 QED=4\n",
    "output MuonCaptureModel1\n",
    "launch MuonCaptureModel1\n",
    "set ptl -1\n",
    "set etal -1\n",
    "set etalmin -1\n",
    "set drll -1\n",
    "set nevents 50000\n",
    "set ebeam1 0.00001\n",
    "set ebeam2 0.00001\n",
    "\"\"\"\n",
    "\n",
    "# Save the commands to a file\n",
    "with open('mg5_script.txt', 'w') as file:\n",
    "    file.write(mg5_commands)\n",
    "\n",
    "# Run the MadGraph script\n",
    "os.system(f'{path_to_madgraph}/bin/mg5_aMC mg5_script.txt')\n",
    "\n",
    "# Return to the current notebook\n",
    "os.chdir(notebook_path)"
   ]
  },
  {
   "cell_type": "code",
   "execution_count": 69,
   "metadata": {},
   "outputs": [],
   "source": [
    "import gzip\n",
    "import shutil\n",
    "\n",
    "# Move the LHE events to the desired path\n",
    "lhe_file_path = f'{path_to_madgraph}/MuonCaptureModel1/Events/run_01/unweighted_events.lhe.gz'\n",
    "destination_path = os.path.expanduser(notebook_path+'/MGevents/')\n",
    "os.makedirs(destination_path, exist_ok=True)  # Make sure the destination directory exists\n",
    "\n",
    "\n",
    "# Specify the source and destination paths\n",
    "source_path = lhe_file_path\n",
    "destination_path = os.path.join(destination_path, 'unweighted_events.lhe.gz')\n",
    "\n",
    "# Copy the file from the source to the destination\n",
    "shutil.copyfile(source_path, destination_path)\n",
    "\n",
    "# Specify the path for the unzipped LHE file\n",
    "unzipped_file_path = destination_path.replace('.gz', '')\n",
    "\n",
    "# Open the zipped file and the unzipped file\n",
    "with gzip.open(destination_path, 'rb') as f_in:\n",
    "    with open(unzipped_file_path, 'wb') as f_out:\n",
    "        # Copy the contents from the zipped file to the unzipped file\n",
    "        f_out.write(f_in.read())\n"
   ]
  },
  {
   "cell_type": "code",
   "execution_count": 70,
   "metadata": {},
   "outputs": [],
   "source": [
    "import numpy as np\n",
    "import pylhe \n",
    "\n",
    "\n",
    "def get_P_and_id_from_MG5(filename):\n",
    "    mg5events = pylhe.read_lhe_with_attributes(filename)\n",
    "\n",
    "    # Create akward array objects for convinience\n",
    "    mg5events = pylhe.to_awkward(mg5events)\n",
    "\n",
    "    return mg5events"
   ]
  },
  {
   "cell_type": "code",
   "execution_count": 71,
   "metadata": {},
   "outputs": [],
   "source": [
    "mg5events = get_P_and_id_from_MG5(unzipped_file_path)"
   ]
  },
  {
   "cell_type": "code",
   "execution_count": 72,
   "metadata": {},
   "outputs": [],
   "source": [
    "# Calculate the total energy\n",
    "electrons = (mg5events['particles', 'id'] == 11)\n",
    "positrons = (mg5events['particles', 'id'] == -11)\n",
    "neutrinos = (np.abs(mg5events['particles', 'id']) == 12) | (np.abs(mg5events['particles', 'id']) == 14)\n",
    "chi1s = (np.abs(mg5events['particles', 'id']) == 999901)\n",
    "\n",
    "Etot_electrons = mg5events['particles','vector','t'][electrons].to_numpy().sum(axis=1)\n",
    "Etot_positrons = mg5events['particles','vector','t'][positrons].to_numpy().sum(axis=1)\n",
    "Etot_neutrinos = mg5events['particles','vector','t'][neutrinos].to_numpy().sum(axis=1)\n",
    "Etot_chi1s = mg5events['particles','vector','t'][chi1s].to_numpy().sum(axis=1)\n",
    "\n",
    "Evis = Etot_positrons + Etot_electrons\n",
    "Tvis = Evis - 2*0.511e-3\n",
    "Einv = Etot_neutrinos + Etot_chi1s"
   ]
  },
  {
   "cell_type": "code",
   "execution_count": 73,
   "metadata": {},
   "outputs": [
    {
     "data": {
      "text/plain": [
       "0.0037195259527083367"
      ]
     },
     "execution_count": 73,
     "metadata": {},
     "output_type": "execute_result"
    }
   ],
   "source": [
    "from Mu3e import const, plot_tools\n",
    "\n",
    "def get_xsec_in_rate(gamma):\n",
    "    return const.get_decay_rate_in_s(gamma)\n",
    "\n",
    "Lambda_NP = 1e4 # 10 TeV / 1 GeV\n",
    "gD = 1e-4 # gD = 1e-3\n",
    "rescale = 1/ Lambda_NP**2\n",
    "weights = mg5events['eventinfo','weight'].to_numpy() * rescale * len(mg5events)\n",
    "\n",
    "def Gamma_Ap(gD, maprime):\n",
    "    g = gD**2 / 4/ np.pi * maprime/3\n",
    "    return const.get_decay_rate_in_cm(g)\n",
    "\n",
    "Gamma_Ap(1e-4, 0.02)"
   ]
  },
  {
   "cell_type": "code",
   "execution_count": 174,
   "metadata": {},
   "outputs": [
    {
     "data": {
      "image/png": "[encoded data removed]",
      "text/plain": [
       "<Figure size 500x350 with 1 Axes>"
      ]
     },
     "metadata": {},
     "output_type": "display_data"
    }
   ],
   "source": [
    "# Create a figure and axis\n",
    "fig, ax = plot_tools.std_fig(figsize=(5, 3.5))\n",
    "\n",
    "# Plot the histogram\n",
    "bins = np.linspace(0, 150, 30)\n",
    "ax.hist(Etot_electrons*1e3 - 0.511, weights=weights/np.diff(bins)[0], bins=bins, histtype='stepfilled', color='skyblue', edgecolor='black', label='$e^-$')\n",
    "\n",
    "# Plot the histogram\n",
    "bins = np.linspace(0, 150, 30)\n",
    "ax.hist(Etot_positrons*1e3 - 0.511, weights=weights/np.diff(bins)[0], bins=bins, histtype='step', color='skyblue', edgecolor='red', label='$e^+$')\n",
    "\n",
    "# Set labels and title\n",
    "ax.set_xlabel(r'$T_{e^\\pm}$/MeV')\n",
    "ax.set_ylabel(r'Rate (a.u.)')\n",
    "ax.set_title(fr'$\\mu^- p^+ \\to \\nu (\\chi_2 \\to \\chi_1 (A^\\prime \\to e^+e^-))$', fontsize=10)\n",
    "\n",
    "# ax.set_yscale('log')\n",
    "ax.set_xlim(np.min(bins),np.max(bins))\n",
    "\n",
    "# Add the text box\n",
    "text_box = r'\\noindent$g_D = 10^{-4}$\\\\$G_{\\mu p} = (10 \\, {\\rm TeV})^{-2}$\\\\$m_2 = 1020$ MeV\\\\$m_1 = 900$ MeV\\\\$m_{A^\\prime} = 20$ MeV'\n",
    "ax.text(0.67, 0.95, text_box, transform=ax.transAxes, fontsize=10, verticalalignment='top')\n",
    "\n",
    "ax.text(0.67, 0.6, fr'$c\\tau_{{A^\\prime}} = {Gamma_Ap(1e-4, 0.02)*1e3:.1f}$~$\\mu$m', transform=ax.transAxes, fontsize=10, verticalalignment='top')\n",
    "ax.legend(loc='upper left', fontsize=10, frameon=False)\n",
    "\n",
    "# Add the vertical dashed line\n",
    "# mp = 938.27\n",
    "# mmu = 105.66 \n",
    "# mchi1 = 900 \n",
    "# mchi2 = 1020\n",
    "# me = 0.511\n",
    "# maprime = 20\n",
    "# sqrts = (mp + mmu)\n",
    "# Echi2_CM = (sqrts**2 + mchi2**2)/2/sqrts\n",
    "# Echi1_max = (sqrts**2 + mchi1**2 - (2*me)**2)/2/sqrts\n",
    "# Ee_max = (Echi2_CM**2 + me**2 - (me + mchi1)**2)/2/Echi2_CM\n",
    "# cutoff = Ee_max\n",
    "# ax.axvline(cutoff, linestyle='dashed', color='grey', alpha=0.2)\n",
    "# ax.text(cutoff+2, ax.get_ylim()[1]/20, r'$\\frac{ E_{\\chi_2}^{\\rm CM\\,2} + m_e^2 - (m_e + m_1)^2}{2E^{\\rm CM}_{\\chi_2}}$', rotation='vertical', color='grey', ha='left', va='bottom')\n",
    "\n",
    "\n",
    "# Save the figure to a PDF file\n",
    "fig.savefig('plots/MuonCapture_model1.png', bbox_inches='tight', dpi=300)"
   ]
  },
  {
   "cell_type": "code",
   "execution_count": 175,
   "metadata": {},
   "outputs": [
    {
     "data": {
      "image/png": "[encoded data removed]",
      "text/plain": [
       "<Figure size 500x350 with 1 Axes>"
      ]
     },
     "metadata": {},
     "output_type": "display_data"
    }
   ],
   "source": [
    "# Create a figure and axis\n",
    "fig, ax = plot_tools.std_fig(figsize=(5, 3.5))\n",
    "\n",
    "# Plot the histogram\n",
    "bins = np.linspace(0, 120, 30)\n",
    "ax.hist(Etot_neutrinos*1e3, weights=weights/np.diff(bins)[0], bins=bins, histtype='stepfilled', color='skyblue', edgecolor='black', label='electron')\n",
    "\n",
    "# Set labels and title\n",
    "ax.set_xlabel(r'$E_{\\mathrm{\\nu}}$/MeV')\n",
    "ax.set_ylabel(r'Rate (a.u.)')\n",
    "ax.set_title(fr'$\\mu^- p^+ \\to \\nu (\\chi_2 \\to \\chi_1 (A^\\prime \\to e^+e^-))$', fontsize=10)\n",
    "\n",
    "ax.set_yscale('log')\n",
    "ax.set_xlim(np.min(bins),np.max(bins))\n",
    "\n",
    "# Add the text box\n",
    "text_box = r'\\noindent$g_D = 10^{-4}$\\\\$G_{\\mu p} = (10 \\, {\\rm TeV})^{-2}$\\\\$m_2 = 1020$ MeV\\\\$m_1 = 900$ MeV\\\\$m_{A^\\prime} = 20$ MeV'\n",
    "ax.text(0.67, 0.95, text_box, transform=ax.transAxes, fontsize=10, verticalalignment='top')\n",
    "\n",
    "ax.text(0.67, 0.6, fr'$c\\tau_{{A^\\prime}} = {Gamma_Ap(1e-4, 0.02)*1e3:.1f}$~$\\mu$m', transform=ax.transAxes, fontsize=10, verticalalignment='top')\n",
    "\n",
    "\n",
    "# Add the vertical dashed line\n",
    "Enu_CM = (sqrts**2 - mchi2**2)/2/sqrts\n",
    "cutoff = Enu_CM\n",
    "ax.axvline(cutoff, linestyle='dashed', color='grey')\n",
    "ax.text(cutoff+5, ax.get_ylim()[1]/10, r'$E_\\nu^{\\rm CM} = \\frac{ (m_\\mu + m_p)^2 - m_1^2}{2(m_\\mu + m_p)}$', rotation='horizontal', color='grey', ha='left', va='bottom')\n",
    "\n",
    "\n",
    "# Save the figure to a PDF file\n",
    "fig.savefig('plots/MuonCapture_model1_neutrino.png', bbox_inches='tight', dpi=300)"
   ]
  },
  {
   "cell_type": "code",
   "execution_count": 176,
   "metadata": {},
   "outputs": [
    {
     "data": {
      "image/png": "[encoded data removed]",
      "text/plain": [
       "<Figure size 500x350 with 1 Axes>"
      ]
     },
     "metadata": {},
     "output_type": "display_data"
    }
   ],
   "source": [
    "# Create a figure and axis\n",
    "fig, ax = plot_tools.std_fig(figsize=(5, 3.5))\n",
    "\n",
    "# Plot the histogram\n",
    "bins = np.linspace(0, 20, 30)\n",
    "ax.hist(Etot_chi1s*1e3 - 900, weights=weights/np.diff(bins)[0], bins=bins, histtype='stepfilled', color='skyblue', edgecolor='black', label='electron')\n",
    "\n",
    "# Set labels and title\n",
    "ax.set_xlabel(r'$T_{\\chi_1}$/MeV')\n",
    "ax.set_ylabel(r'Rate (a.u.)')\n",
    "ax.set_title(fr'$\\mu^- p^+ \\to \\nu (\\chi_2 \\to \\chi_1 (A^\\prime \\to e^+e^-))$', fontsize=10)\n",
    "\n",
    "ax.set_yscale('log')\n",
    "ax.set_xlim(np.min(bins),np.max(bins))\n",
    "\n",
    "# Add the text box\n",
    "text_box = r'\\noindent$g_D = 10^{-4}$\\\\$G_{\\mu p} = (10 \\, {\\rm TeV})^{-2}$\\\\$m_2 = 1020$ MeV\\\\$m_1 = 900$ MeV\\\\$m_{A^\\prime} = 20$ MeV'\n",
    "ax.text(0.67, 0.95, text_box, transform=ax.transAxes, fontsize=10, verticalalignment='top')\n",
    "\n",
    "ax.text(0.67, 0.6, fr'$c\\tau_{{A^\\prime}} = {Gamma_Ap(1e-4, 0.02)*1e3:.1f}$~$\\mu$m', transform=ax.transAxes, fontsize=10, verticalalignment='top')\n",
    "\n",
    "\n",
    "# Add the vertical dashed line\n",
    "# Echi1_max = (Echi2_CM**2 + mchi1**2 - (maprime)**2)/2/Echi2_CM - 900\n",
    "# cutoff = Echi1_max\n",
    "# ax.axvline(cutoff, linestyle='dashed', color='grey')\n",
    "# ax.text(cutoff+1, ax.get_ylim()[1]/10, r'$m_p + m_\\mu - m_2$', rotation='horizontal', color='grey', ha='left', va='bottom')\n",
    "\n",
    "\n",
    "# Save the figure to a PDF file\n",
    "fig.savefig('plots/MuonCapture_model1_chi1.png', bbox_inches='tight', dpi=300)"
   ]
  },
  {
   "cell_type": "code",
   "execution_count": 164,
   "metadata": {},
   "outputs": [
    {
     "data": {
      "text/plain": [
       "6.893195906387177"
      ]
     },
     "execution_count": 164,
     "metadata": {},
     "output_type": "execute_result"
    }
   ],
   "source": [
    "Echi1_max"
   ]
  },
  {
   "cell_type": "code",
   "execution_count": 103,
   "metadata": {},
   "outputs": [
    {
     "data": {
      "text/plain": [
       "123.93000000000006"
      ]
     },
     "execution_count": 103,
     "metadata": {},
     "output_type": "execute_result"
    }
   ],
   "source": [
    "cutoff"
   ]
  }
 ],
 "metadata": {
  "kernelspec": {
   "display_name": "py39",
   "language": "python",
   "name": "python3"
  },
  "language_info": {
   "codemirror_mode": {
    "name": "ipython",
    "version": 3
   },
   "file_extension": ".py",
   "mimetype": "text/x-python",
   "name": "python",
   "nbconvert_exporter": "python",
   "pygments_lexer": "ipython3",
   "version": "3.9.15"
  }
 },
 "nbformat": 4,
 "nbformat_minor": 2
}
